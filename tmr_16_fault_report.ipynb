{
 "cells": [
  {
   "cell_type": "code",
   "execution_count": 1,
   "id": "139f329f-8278-4941-a6da-15e1e4781b74",
   "metadata": {},
   "outputs": [
    {
     "name": "stdout",
     "output_type": "stream",
     "text": [
      "fatal: destination path 'bfat' already exists and is not an empty directory.\n"
     ]
    }
   ],
   "source": [
    "!git clone --recurse-submodules https://github.com/byuccl/bfat.git"
   ]
  },
  {
   "cell_type": "code",
   "execution_count": 2,
   "id": "fd0b3f61-96a0-4958-a419-0a32aff4785c",
   "metadata": {},
   "outputs": [
    {
     "name": "stdout",
     "output_type": "stream",
     "text": [
      "\u001b[1;31mE: \u001b[0mCould not open lock file /var/lib/dpkg/lock-frontend - open (13: Permission denied)\u001b[0m\n",
      "\u001b[1;31mE: \u001b[0mUnable to acquire the dpkg frontend lock (/var/lib/dpkg/lock-frontend), are you root?\u001b[0m\n"
     ]
    }
   ],
   "source": [
    "!apt install python3 python3-venv default-jdk"
   ]
  },
  {
   "cell_type": "code",
   "execution_count": 3,
   "id": "5f4fdae1-7447-4468-a714-dc6f239f32a4",
   "metadata": {},
   "outputs": [
    {
     "name": "stdout",
     "output_type": "stream",
     "text": [
      "/home/deck/xup/phd/bfat\n"
     ]
    }
   ],
   "source": [
    "%cd bfat"
   ]
  },
  {
   "cell_type": "code",
   "execution_count": 4,
   "id": "96cebc1b-6415-4618-a77a-d7fd2d905bca",
   "metadata": {},
   "outputs": [
    {
     "name": "stdout",
     "output_type": "stream",
     "text": [
      "Collecting rapidwright==2022.1.1 (from -r requirements.txt (line 1))\n",
      "  Using cached rapidwright-2022.1.1-py3-none-any.whl.metadata (1.1 kB)\n",
      "Requirement already satisfied: pytest in /home/deck/xup/phd/venv/lib/python3.13/site-packages (from -r requirements.txt (line 2)) (8.3.5)\n",
      "Requirement already satisfied: tqdm in /home/deck/xup/phd/venv/lib/python3.13/site-packages (from -r requirements.txt (line 3)) (4.67.1)\n",
      "Requirement already satisfied: matplotlib in /home/deck/xup/phd/venv/lib/python3.13/site-packages (from -r requirements.txt (line 4)) (3.10.1)\n",
      "Requirement already satisfied: pyqt5 in /home/deck/xup/phd/venv/lib/python3.13/site-packages (from -r requirements.txt (line 5)) (5.15.11)\n",
      "Requirement already satisfied: jpype1 in /home/deck/xup/phd/venv/lib/python3.13/site-packages (from rapidwright==2022.1.1->-r requirements.txt (line 1)) (1.5.2)\n",
      "Requirement already satisfied: iniconfig in /home/deck/xup/phd/venv/lib/python3.13/site-packages (from pytest->-r requirements.txt (line 2)) (2.1.0)\n",
      "Requirement already satisfied: packaging in /home/deck/xup/phd/venv/lib/python3.13/site-packages (from pytest->-r requirements.txt (line 2)) (24.2)\n",
      "Requirement already satisfied: pluggy<2,>=1.5 in /home/deck/xup/phd/venv/lib/python3.13/site-packages (from pytest->-r requirements.txt (line 2)) (1.5.0)\n",
      "Requirement already satisfied: contourpy>=1.0.1 in /home/deck/xup/phd/venv/lib/python3.13/site-packages (from matplotlib->-r requirements.txt (line 4)) (1.3.2)\n",
      "Requirement already satisfied: cycler>=0.10 in /home/deck/xup/phd/venv/lib/python3.13/site-packages (from matplotlib->-r requirements.txt (line 4)) (0.12.1)\n",
      "Requirement already satisfied: fonttools>=4.22.0 in /home/deck/xup/phd/venv/lib/python3.13/site-packages (from matplotlib->-r requirements.txt (line 4)) (4.57.0)\n",
      "Requirement already satisfied: kiwisolver>=1.3.1 in /home/deck/xup/phd/venv/lib/python3.13/site-packages (from matplotlib->-r requirements.txt (line 4)) (1.4.8)\n",
      "Requirement already satisfied: numpy>=1.23 in /home/deck/xup/phd/venv/lib/python3.13/site-packages (from matplotlib->-r requirements.txt (line 4)) (2.2.4)\n",
      "Requirement already satisfied: pillow>=8 in /home/deck/xup/phd/venv/lib/python3.13/site-packages (from matplotlib->-r requirements.txt (line 4)) (11.2.1)\n",
      "Requirement already satisfied: pyparsing>=2.3.1 in /home/deck/xup/phd/venv/lib/python3.13/site-packages (from matplotlib->-r requirements.txt (line 4)) (3.2.3)\n",
      "Requirement already satisfied: python-dateutil>=2.7 in /home/deck/xup/phd/venv/lib/python3.13/site-packages (from matplotlib->-r requirements.txt (line 4)) (2.9.0.post0)\n",
      "Requirement already satisfied: PyQt5-sip<13,>=12.15 in /home/deck/xup/phd/venv/lib/python3.13/site-packages (from pyqt5->-r requirements.txt (line 5)) (12.17.0)\n",
      "Requirement already satisfied: PyQt5-Qt5<5.16.0,>=5.15.2 in /home/deck/xup/phd/venv/lib/python3.13/site-packages (from pyqt5->-r requirements.txt (line 5)) (5.15.16)\n",
      "Requirement already satisfied: six>=1.5 in /home/deck/xup/phd/venv/lib/python3.13/site-packages (from python-dateutil>=2.7->matplotlib->-r requirements.txt (line 4)) (1.17.0)\n",
      "Using cached rapidwright-2022.1.1-py3-none-any.whl (115 kB)\n",
      "Installing collected packages: rapidwright\n",
      "  Attempting uninstall: rapidwright\n",
      "    Found existing installation: rapidwright 2024.2.2\n",
      "    Uninstalling rapidwright-2024.2.2:\n",
      "      Successfully uninstalled rapidwright-2024.2.2\n",
      "Successfully installed rapidwright-2022.1.1\n",
      "\n",
      "\u001b[1m[\u001b[0m\u001b[34;49mnotice\u001b[0m\u001b[1;39;49m]\u001b[0m\u001b[39;49m A new release of pip is available: \u001b[0m\u001b[31;49m25.0.1\u001b[0m\u001b[39;49m -> \u001b[0m\u001b[32;49m25.1.1\u001b[0m\n",
      "\u001b[1m[\u001b[0m\u001b[34;49mnotice\u001b[0m\u001b[1;39;49m]\u001b[0m\u001b[39;49m To update, run: \u001b[0m\u001b[32;49mpip install --upgrade pip\u001b[0m\n",
      "Note: you may need to restart the kernel to use updated packages.\n"
     ]
    }
   ],
   "source": [
    "pip install -r requirements.txt"
   ]
  },
  {
   "cell_type": "code",
   "execution_count": 5,
   "id": "2c269118-6fa8-42c5-bf48-17d2e4d33c9f",
   "metadata": {},
   "outputs": [
    {
     "name": "stdout",
     "output_type": "stream",
     "text": [
      "Requirement already satisfied: rapidwright in /home/deck/xup/phd/venv/lib/python3.13/site-packages (2022.1.1)\n",
      "Collecting rapidwright\n",
      "  Using cached rapidwright-2024.2.2-py3-none-any.whl.metadata (1.1 kB)\n",
      "Requirement already satisfied: jpype1 in /home/deck/xup/phd/venv/lib/python3.13/site-packages (from rapidwright) (1.5.2)\n",
      "Requirement already satisfied: packaging in /home/deck/xup/phd/venv/lib/python3.13/site-packages (from jpype1->rapidwright) (24.2)\n",
      "Using cached rapidwright-2024.2.2-py3-none-any.whl (121 kB)\n",
      "Installing collected packages: rapidwright\n",
      "  Attempting uninstall: rapidwright\n",
      "    Found existing installation: rapidwright 2022.1.1\n",
      "    Uninstalling rapidwright-2022.1.1:\n",
      "      Successfully uninstalled rapidwright-2022.1.1\n",
      "Successfully installed rapidwright-2024.2.2\n",
      "\n",
      "\u001b[1m[\u001b[0m\u001b[34;49mnotice\u001b[0m\u001b[1;39;49m]\u001b[0m\u001b[39;49m A new release of pip is available: \u001b[0m\u001b[31;49m25.0.1\u001b[0m\u001b[39;49m -> \u001b[0m\u001b[32;49m25.1.1\u001b[0m\n",
      "\u001b[1m[\u001b[0m\u001b[34;49mnotice\u001b[0m\u001b[1;39;49m]\u001b[0m\u001b[39;49m To update, run: \u001b[0m\u001b[32;49mpip install --upgrade pip\u001b[0m\n",
      "Note: you may need to restart the kernel to use updated packages.\n"
     ]
    }
   ],
   "source": [
    "pip install rapidwright -U"
   ]
  },
  {
   "cell_type": "code",
   "execution_count": 6,
   "id": "d21beada-7f81-4af9-9322-6dbdd313581a",
   "metadata": {},
   "outputs": [],
   "source": [
    "import os\n",
    "os.environ['RW_AUTO_GENERATE_READABLE_EDIF'] = \"0\""
   ]
  },
  {
   "cell_type": "code",
   "execution_count": 12,
   "id": "423b0643-3d21-4d20-a684-697808b88c36",
   "metadata": {},
   "outputs": [
    {
     "name": "stdout",
     "output_type": "stream",
     "text": [
      "/home/deck/xup/phd\n"
     ]
    }
   ],
   "source": [
    "%cd .."
   ]
  },
  {
   "cell_type": "code",
   "execution_count": 11,
   "id": "7384d4ba-d5e2-477e-8301-a57a35b40bbe",
   "metadata": {},
   "outputs": [
    {
     "name": "stdout",
     "output_type": "stream",
     "text": [
      "/home/deck/xup/phd/bfat\n"
     ]
    }
   ],
   "source": [
    "!pwd"
   ]
  },
  {
   "cell_type": "code",
   "execution_count": 13,
   "id": "1e039e01-dc14-4c8a-a06e-9d4638216ff7",
   "metadata": {},
   "outputs": [],
   "source": [
    "!sed -i '268i \\            if \"GLOBAL_LOGIC\" in net_name:\\n                continue' ./bfat/utils/net_analysis.py"
   ]
  },
  {
   "cell_type": "code",
   "execution_count": 14,
   "id": "f2e022d3-15fb-4f54-aa44-28c9f71434da",
   "metadata": {},
   "outputs": [
    {
     "name": "stdout",
     "output_type": "stream",
     "text": [
      "Building design query...\n",
      "\n",
      "==============================================================================\n",
      "==                       Reading DCP: tmr_16_soc.dcp                        ==\n",
      "==============================================================================\n",
      " XML Parse & Device Load:     1.162s\n",
      "    (Read PhysDB Caches):            (    0.535s)\n",
      "            (EDIF Parse):            (    2.879s)\n",
      "   (Read PhysDB Routing):            (    2.421s)\n",
      " (Read PhysDB Placement):            (    2.796s)\n",
      "(Read PhysDB Finalizing):            (    0.280s)\n",
      "   Read Netlist & PhysDB:     3.617s\n",
      "------------------------------------------------------------------------------\n",
      "         [No GC] *Total*:     4.778s\n",
      "\n",
      "Parsing part tilegrid information from database...\n",
      "Retrieving nets...\n",
      "Removing triplicated nets...\n",
      "100%|████████████████████████████████████| 71144/71144 [01:13<00:00, 962.53it/s]\n",
      "Analyzing nets...\n",
      "100%|█████████████████████████████████████████| 687/687 [09:27<00:00,  1.21it/s]\n",
      "Generating output file...\n",
      "Done!\n"
     ]
    }
   ],
   "source": [
    "!python3 ./bfat/utils/net_analysis.py ./tmr_16_soc.dcp -ntmr TMR -rpd --all_nets"
   ]
  },
  {
   "cell_type": "code",
   "execution_count": 15,
   "id": "2083dd06-4e52-4463-8f27-9d64e33e93e5",
   "metadata": {},
   "outputs": [
    {
     "name": "stdout",
     "output_type": "stream",
     "text": [
      "Reading in Design Bits...\n",
      "Generating Design Query...\n",
      "\n",
      "==============================================================================\n",
      "==                       Reading DCP: tmr_16_soc.dcp                        ==\n",
      "==============================================================================\n",
      " XML Parse & Device Load:     0.993s\n",
      "    (Read PhysDB Caches):            (    0.474s)\n",
      "            (EDIF Parse):            (    4.928s)\n",
      "   (Read PhysDB Routing):            (    4.513s)\n",
      " (Read PhysDB Placement):            (    4.882s)\n",
      "(Read PhysDB Finalizing):            (    0.314s)\n",
      "   Read Netlist & PhysDB:     5.676s\n",
      "------------------------------------------------------------------------------\n",
      "         [No GC] *Total*:     6.670s\n",
      "\n",
      "Parsing in Input Files...\n",
      "Generating Tile Images...\n",
      "Analyzing Fault Bit Groups: 100%|█████████████| 106/106 [19:42<00:00, 11.16s/it]\n",
      "Printing Fault Report...\n",
      "Printing Statistical Footer...\n"
     ]
    }
   ],
   "source": [
    "!python3 ./bfat/bfat.py ./tmr_16_soc.bit ./tmr_16_soc.dcp ./bits.json -rpd"
   ]
  },
  {
   "cell_type": "code",
   "execution_count": null,
   "id": "8a8de97b-f1e5-4309-81a9-b9c5a8e16511",
   "metadata": {},
   "outputs": [],
   "source": []
  }
 ],
 "metadata": {
  "kernelspec": {
   "display_name": "Python 3 (ipykernel)",
   "language": "python",
   "name": "python3"
  },
  "language_info": {
   "codemirror_mode": {
    "name": "ipython",
    "version": 3
   },
   "file_extension": ".py",
   "mimetype": "text/x-python",
   "name": "python",
   "nbconvert_exporter": "python",
   "pygments_lexer": "ipython3",
   "version": "3.13.3"
  }
 },
 "nbformat": 4,
 "nbformat_minor": 5
}
